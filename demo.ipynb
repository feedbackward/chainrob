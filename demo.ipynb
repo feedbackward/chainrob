{
 "cells": [
  {
   "cell_type": "markdown",
   "metadata": {},
   "source": [
    "# Demo workshop\n",
    "\n",
    "1. <a href=\"#getdata\">Data acquisition and preparation</a>\n",
    "1. <a href=\"#runalgo\">Run the learning algorithm(s)</a>\n",
    "1. <a href=\"#\">Visualization of learning efficiency</a>"
   ]
  },
  {
   "cell_type": "markdown",
   "metadata": {},
   "source": [
    "<a id=\"getdata\"></a>\n",
    "### Data acquisition and preparation\n",
    "\n",
    "First we acquire the famous <a href=\"https://archive.ics.uci.edu/ml/datasets/iris\">Iris Data Set</a> due to R.A. Fisher, included in the UCI Machine Learning Respository. We shall store the data in a directory called `data`."
   ]
  },
  {
   "cell_type": "code",
   "execution_count": 1,
   "metadata": {},
   "outputs": [],
   "source": [
    "! mkdir data\n",
    "! mkdir data/iris"
   ]
  },
  {
   "cell_type": "code",
   "execution_count": 2,
   "metadata": {},
   "outputs": [
    {
     "name": "stdout",
     "output_type": "stream",
     "text": [
      "--2019-01-07 16:25:44--  https://archive.ics.uci.edu/ml/machine-learning-databases/iris/iris.data\n",
      "Resolving archive.ics.uci.edu (archive.ics.uci.edu)... 128.195.10.249\n",
      "Connecting to archive.ics.uci.edu (archive.ics.uci.edu)|128.195.10.249|:443... connected.\n",
      "HTTP request sent, awaiting response... 200 OK\n",
      "Length: 4551 (4.4K) [text/plain]\n",
      "Saving to: ‘data/iris/iris.data’\n",
      "\n",
      "iris.data           100%[===================>]   4.44K  --.-KB/s    in 0s      \n",
      "\n",
      "2019-01-07 16:25:44 (118 MB/s) - ‘data/iris/iris.data’ saved [4551/4551]\n",
      "\n",
      "--2019-01-07 16:25:44--  https://archive.ics.uci.edu/ml/machine-learning-databases/iris/iris.names\n",
      "Resolving archive.ics.uci.edu (archive.ics.uci.edu)... 128.195.10.249\n",
      "Connecting to archive.ics.uci.edu (archive.ics.uci.edu)|128.195.10.249|:443... connected.\n",
      "HTTP request sent, awaiting response... 200 OK\n",
      "Length: 2998 (2.9K) [text/plain]\n",
      "Saving to: ‘data/iris/iris.names’\n",
      "\n",
      "iris.names          100%[===================>]   2.93K  --.-KB/s    in 0s      \n",
      "\n",
      "2019-01-07 16:25:45 (40.7 MB/s) - ‘data/iris/iris.names’ saved [2998/2998]\n",
      "\n"
     ]
    }
   ],
   "source": [
    "! wget https://archive.ics.uci.edu/ml/machine-learning-databases/iris/iris.data -P data/iris/\n",
    "! wget https://archive.ics.uci.edu/ml/machine-learning-databases/iris/iris.names -P data/iris/"
   ]
  },
  {
   "cell_type": "code",
   "execution_count": 3,
   "metadata": {
    "scrolled": false
   },
   "outputs": [
    {
     "name": "stdout",
     "output_type": "stream",
     "text": [
      "iris.data  iris.names\r\n"
     ]
    }
   ],
   "source": [
    "! ls data/iris"
   ]
  },
  {
   "cell_type": "markdown",
   "metadata": {},
   "source": [
    "Next we organize a few basic facts about the dataset, chiefly for clerical purposes."
   ]
  },
  {
   "cell_type": "code",
   "execution_count": 4,
   "metadata": {},
   "outputs": [],
   "source": [
    "# Clerical stuff.\n",
    "NUM_DATA = 150\n",
    "NUM_TRAIN = 100 # Set manually.\n",
    "NUM_TEST = NUM_DATA - NUM_TRAIN\n",
    "NUM_FEATURES = 4\n",
    "NUM_CLASSES = 3\n",
    "NUM_LABELS = 1\n",
    "LABEL_DICT = {\"Iris-setosa\": 0,\n",
    "              \"Iris-versicolor\": 1,\n",
    "              \"Iris-virginica\": 2}"
   ]
  },
  {
   "cell_type": "markdown",
   "metadata": {},
   "source": [
    "Beware that this `iris.data` file contains one more line than is required (since there should be only 150 points). The 151st line is blank, and so we can just skip it."
   ]
  },
  {
   "cell_type": "code",
   "execution_count": 5,
   "metadata": {},
   "outputs": [
    {
     "name": "stdout",
     "output_type": "stream",
     "text": [
      "151 data/iris/iris.data\r\n"
     ]
    }
   ],
   "source": [
    "! wc -l data/iris/iris.data"
   ]
  },
  {
   "cell_type": "markdown",
   "metadata": {},
   "source": [
    "Next we use the `csv` module to read the text file and convert the data into a `numpy` array."
   ]
  },
  {
   "cell_type": "code",
   "execution_count": 6,
   "metadata": {},
   "outputs": [],
   "source": [
    "import os\n",
    "import csv\n",
    "import numpy as np\n",
    "\n",
    "toread = os.path.join(\"data\", \"iris\", \"iris.data\")\n",
    "\n",
    "data_X = np.zeros((NUM_DATA,NUM_FEATURES), dtype=np.float32)\n",
    "data_y = np.zeros((NUM_DATA,1), dtype=np.int8)\n",
    "\n",
    "with open(toread, newline=\"\") as f_table:\n",
    "    \n",
    "    f_reader = csv.reader(f_table, delimiter=\",\")\n",
    "    \n",
    "    i = 0\n",
    "    for line in f_reader:\n",
    "        data_X[i,:] = np.array(line[0:-1],\n",
    "                               dtype=data_X.dtype)\n",
    "        data_y[i,:] = np.array(LABEL_DICT[line[-1]],\n",
    "                               dtype=data_y.dtype)\n",
    "        i += 1\n",
    "        \n",
    "        if i >= NUM_DATA: # to skip the final blank line.\n",
    "            break\n",
    "        "
   ]
  },
  {
   "cell_type": "markdown",
   "metadata": {},
   "source": [
    "Finally, as a simple bit of pre-processing, we normalize the inputs in a per-feature manner."
   ]
  },
  {
   "cell_type": "code",
   "execution_count": 7,
   "metadata": {},
   "outputs": [],
   "source": [
    "maxvec = np.max(data_X, axis=0) # vector of maxes\n",
    "minvec = np.min(data_X, axis=0) # vector of mins\n",
    "data_X = data_X-minvec\n",
    "with np.errstate(divide=\"ignore\", invalid=\"ignore\"):\n",
    "    data_X = data_X / (maxvec-minvec)\n",
    "    data_X[data_X == np.inf] = 0\n",
    "    data_X = np.nan_to_num(data_X)"
   ]
  },
  {
   "cell_type": "markdown",
   "metadata": {},
   "source": [
    "<a id=\"runalgo\"></a>\n",
    "### Run the learning algorithm(s)\n",
    "\n",
    "The details of the learning algorithm are as follows."
   ]
  },
  {
   "cell_type": "markdown",
   "metadata": {},
   "source": [
    "The new estimator makes use of a new influence function, of the following form.\n",
    "\n",
    "\\begin{align*}\n",
    "\\psi(u) =\n",
    "\\begin{cases}\n",
    "u - u^{3}/6, & -\\sqrt{2} \\leq u \\leq \\sqrt{2}\\\\\n",
    "2\\sqrt{2}/3, & u > \\sqrt{2}\\\\\n",
    "-2\\sqrt{2}/3, & u < -\\sqrt{2}.\n",
    "\\end{cases}\n",
    "\\end{align*}"
   ]
  },
  {
   "cell_type": "markdown",
   "metadata": {},
   "source": [
    "The new estimator is defined as follows. Given $\\psi$ as above, and $d$-dimensional observations $x_{1},\\ldots,x_{n} \\in \\mathbb{R}^{d}$, we define an estimator of the *inner product* of an independent copy of $x$ and $\\theta \\in \\mathbb{R}^{d}$ on the unit circle, i.e., $\\|\\theta\\|=1$, as\n",
    "\n",
    "\\begin{align*}\n",
    "\\widehat{e}(\\theta) = \\int \\left(\\frac{s}{n} \\sum_{i=1}^{n} \\psi\\left(\\frac{\\langle \\theta^{\\prime}, x_{i} \\rangle}{s}\\right) \\right) \\, d\\nu_{\\theta}(\\theta^{\\prime}).\n",
    "\\end{align*}\n",
    "\n",
    "Note that this is an estimator; it depends on the $n$-sized independent random sample, but it is also taking expectation with respect to a \"noisy\" parameter $\\theta^{\\prime}$. Here $\\nu_{\\theta} = \\mathcal{N}(\\theta,\\beta^{-1}I_{d})$ is a $d$-dimensional isotropic Gaussian distribution, with variance parameter $\\beta > 0$.\n",
    "\n",
    "We have modified notation slightly: in their paper, they use $\\lambda$, defined as\n",
    "\n",
    "\\begin{align*}\n",
    "\\lambda = \\frac{1}{s}.\n",
    "\\end{align*}\n",
    "\n",
    "Fortunately, in the case of Gaussian $\\nu_{\\theta}$, the estimator can be computed extremely easily, in \"closed form\" up to use of Gaussian CDFs. Its computation is done as follows. First, we must note that for $W \\sim \\mathcal{N}(0,1)$, we can compute\n",
    "\n",
    "\\begin{align*}\n",
    "\\varphi(m,\\sigma) & = \\mathbf{E}\\,\\psi(m+W\\sigma)\\\\\n",
    "& = m \\left( 1-\\frac{\\sigma^{2}}{2}\\right) - \\frac{m^{3}}{6} + r(m,\\sigma),\n",
    "\\end{align*}\n",
    "\n",
    "where $r(m,\\sigma)$ is a correction term that is tedious but straightforward to compute. Plugging this identity in to the definition of $\\widehat{e}(\\theta)$, we can easily compute the new estimator.\n",
    "\n",
    "What remains is setting the parameters $\\lambda$ and $\\beta$. The proposed settings in Proposition 3.3 are as follows. Let $T$ and $v$ be upper bounds on second moments such that\n",
    "\n",
    "\\begin{align*}\n",
    "\\mathbf{E}\\,\\|x\\|^{2} & \\leq T < \\infty\\\\\n",
    "\\sup_{\\|\\theta\\|=1} \\mathbf{E}\\,\\langle \\theta, x \\rangle^{2} & \\leq v \\leq T < \\infty.\n",
    "\\end{align*}\n",
    "\n",
    "Then the parameters should be set as\n",
    "\n",
    "\\begin{align*}\n",
    "\\lambda & = \\sqrt{\\frac{2\\log(\\delta^{-1})}{nv}}\\\\\n",
    "\\beta & = \\sqrt{nT} \\lambda = \\sqrt{\\frac{2T\\log(\\delta^{-1})}{v}}.\n",
    "\\end{align*}\n",
    "\n",
    "With these \"oracle\" settings, the nice guarantee provided, with no less than $1-\\delta$ probability, is that\n",
    "\n",
    "\\begin{align*}\n",
    "\\sup_{\\|\\theta\\|=1} \\left| \\widehat{e}(\\theta) - \\langle \\theta, \\mathbf{E}\\,x \\rangle \\right| \\leq \\sqrt{\\frac{T}{n}} + \\sqrt{\\frac{2v\\log(\\delta^{-1})}{n}}.\n",
    "\\end{align*}"
   ]
  },
  {
   "cell_type": "markdown",
   "metadata": {},
   "source": [
    "Our approach is to apply the one-dimensional version of the above robust estimation procedure as a sub-routine in an otherwise traditional steepest descent optimization procedure."
   ]
  },
  {
   "cell_type": "markdown",
   "metadata": {},
   "source": [
    "Below, we test this algorithm using `data_X` and `data_y` prepared above, we proceed with a simple proof of concept experiment. We run the following algorithms:\n",
    "\n",
    "- `shallow`: linear combination of the inputs, no hidden layers.\n",
    "- `deep`: non-linear combination of the inputs, with two hidden layers, each with 20 units, and ReLU activation.\n",
    "- `shallow-rob`: robustified version of `shallow`\n",
    "- `deep-rob`: robustifier version of `deep`, with the parameters in the final layer being updated robustly, and the rest as normal.\n",
    "\n",
    "For each trial, from the 150 data points in the full data set, a random subset of $n=100$ is selected for training, and the rest a treated as a sample. This is repeated for all trials."
   ]
  },
  {
   "cell_type": "code",
   "execution_count": 8,
   "metadata": {},
   "outputs": [],
   "source": [
    "import chainer as ch\n",
    "import get_model as gm\n",
    "import helpers as hlp\n",
    "import robustify as rob\n",
    "import config"
   ]
  },
  {
   "cell_type": "code",
   "execution_count": 9,
   "metadata": {},
   "outputs": [],
   "source": [
    "# Prepare a results directory.\n",
    "task_name = \"iris\"\n",
    "towrite = os.path.join(\"results\", task_name)\n",
    "hlp.makedir_safe(dirname=towrite)"
   ]
  },
  {
   "cell_type": "code",
   "execution_count": 10,
   "metadata": {},
   "outputs": [],
   "source": [
    "# Model/algorithm parameters (more in config.py).\n",
    "t_max = 5*NUM_TRAIN # number of iterations for main routine.\n",
    "t_init = t_max // 5 # number of iterations for intializer.\n",
    "num_trials = 25 # number of independent random trials.\n",
    "num_records = 100+1 # number of times to record performance.\n",
    "todiv = t_max // (num_records-1)\n",
    "lr = 0.3 # learning rate; pre-fixed step size iterative updates."
   ]
  },
  {
   "cell_type": "code",
   "execution_count": 11,
   "metadata": {
    "scrolled": true
   },
   "outputs": [
    {
     "name": "stdout",
     "output_type": "stream",
     "text": [
      "Working on: shallow ... Done.\n",
      "Working on: deep ... Done.\n",
      "Working on: shallow-rob ... Done.\n",
      "Working on: deep-rob ... Done.\n"
     ]
    }
   ],
   "source": [
    "# Main loop over model names.\n",
    "\n",
    "mod_names = [\"shallow\", \"deep\", \"shallow-rob\", \"deep-rob\"]\n",
    "\n",
    "for mod_name in mod_names:\n",
    "    \n",
    "    print(\"Working on:\", mod_name, \"...\", end=\" \")\n",
    "\n",
    "    # Prepare storage for performance metrics.\n",
    "    loss_tr = np.zeros((num_trials,num_records), dtype=np.float32)\n",
    "    loss_te = np.zeros((num_trials,num_records), dtype=np.float32)\n",
    "    costs = np.zeros((num_trials,num_records), dtype=np.float32)\n",
    "\n",
    "    # Get a random train/test set for each trial.\n",
    "    for tri in range(num_trials):\n",
    "        \n",
    "        cost_counter = 0\n",
    "\n",
    "        shufidx = np.random.choice(NUM_DATA,\n",
    "                                   size=NUM_DATA,\n",
    "                                   replace=False)\n",
    "        X_tr = data_X[shufidx[0:NUM_TRAIN],:]\n",
    "        y_tr = data_y[shufidx[0:NUM_TRAIN],:]\n",
    "        X_te = data_X[shufidx[NUM_TRAIN:],:]\n",
    "        y_te = data_y[shufidx[NUM_TRAIN:],:]\n",
    "\n",
    "        nc = NUM_CLASSES # number of classes\n",
    "        nf = NUM_FEATURES # number of features\n",
    "\n",
    "        # Preparation of model and optimizer objects.\n",
    "        mod_init, mod = gm.get_model(mod_name=mod_name, nf=nf, nc=nc)\n",
    "        opt_init = ch.optimizers.SGD(lr=lr)\n",
    "        opt = ch.optimizers.SGD(lr=lr)\n",
    "        opt_init.setup(mod_init)\n",
    "        opt.setup(mod)\n",
    "\n",
    "        # Next prepare the initializer models.\n",
    "        tval = 0\n",
    "        idx = 0\n",
    "        while tval < t_init:\n",
    "\n",
    "            # Evaluate current state.\n",
    "            loss_init = ch.functions.softmax_cross_entropy(\n",
    "                x=mod_init(X_tr),\n",
    "                t=y_tr.flatten(),\n",
    "                normalize=True,\n",
    "                reduce=\"mean\"\n",
    "            )\n",
    "\n",
    "            # Cost updates.\n",
    "            cost_counter += X_tr.shape[0]\n",
    "\n",
    "            # Get gradients.\n",
    "            mod_init.cleargrads()\n",
    "            loss_init.backward()\n",
    "\n",
    "            # Parameter updates.\n",
    "            opt_init.update()\n",
    "\n",
    "            tval += 1\n",
    "\n",
    "\n",
    "        # Next, copy the initialized parameters.\n",
    "        mod.copyparams(mod_init)\n",
    "\n",
    "        # Finally, run the learning algorithm for the initialized models.\n",
    "        tval = 0\n",
    "        while tval < t_max:\n",
    "\n",
    "            # Evaluate current state.\n",
    "            loss = ch.functions.softmax_cross_entropy(\n",
    "                x=mod(X_tr),\n",
    "                t=y_tr.flatten(),\n",
    "                normalize=True,\n",
    "                reduce=\"mean\"\n",
    "            )\n",
    "\n",
    "            # Get gradients.\n",
    "            mod.cleargrads()\n",
    "            loss.backward()\n",
    "\n",
    "            # Parameter updates.\n",
    "            opt.update()\n",
    "\n",
    "            # Cost updates.\n",
    "            cost_counter += X_tr.shape[0]\n",
    "\n",
    "            # Record performance for the given iteration and given trial.\n",
    "            if tval % todiv == 0:\n",
    "                loss_tr[tri,idx] = 1.0-ch.functions.accuracy(\n",
    "                    y=mod(X_tr),\n",
    "                    t=y_tr.flatten()\n",
    "                ).data\n",
    "                loss_te[tri,idx] = 1.0-ch.functions.accuracy(\n",
    "                    y=mod(X_te),\n",
    "                    t=y_te.flatten()\n",
    "                ).data\n",
    "                costs[tri,idx] = cost_counter\n",
    "                idx += 1\n",
    "\n",
    "            tval += 1\n",
    "\n",
    "        # Record final performance if not done so already.\n",
    "        if idx < num_records:\n",
    "            loss_tr[tri,idx] = 1.0-ch.functions.accuracy(\n",
    "                    y=mod(X_tr),\n",
    "                    t=y_tr.flatten()\n",
    "                ).data\n",
    "            loss_te[tri,idx] = 1.0-ch.functions.accuracy(\n",
    "                    y=mod(X_te),\n",
    "                    t=y_te.flatten()\n",
    "                ).data\n",
    "            costs[tri,idx] = cost_counter\n",
    "            idx += 1\n",
    "\n",
    "    # After running all trials, take stats and arrange into perf mtx.\n",
    "    ave_loss_tr = np.mean(loss_tr, axis=0)\n",
    "    ave_loss_te = np.mean(loss_te, axis=0)\n",
    "    ave_loss = np.vstack((ave_loss_tr,ave_loss_te)).T # transpose it.\n",
    "    ave_cost = np.mean(costs, axis=0)\n",
    "\n",
    "    # Write to disk.\n",
    "    np.savetxt(fname=os.path.join(towrite, (mod_name+\".ave\")),\n",
    "               X=ave_loss, fmt=\"%.7e\", delimiter=\",\")\n",
    "    np.savetxt(fname=os.path.join(towrite, (mod_name+\".cost\")),\n",
    "               X=ave_cost, fmt=\"%.7e\", delimiter=\",\")\n",
    "    \n",
    "    del mod_init, opt_init, mod, opt\n",
    "    \n",
    "    print(\"Done.\")"
   ]
  },
  {
   "cell_type": "markdown",
   "metadata": {},
   "source": [
    "<a id=\"performance\"></a>\n",
    "### Visualization of learning efficiency\n",
    "\n",
    "Having run the experiments given above, here we prepare some simple plots of training/testing error, given as a function of the number of gradients computed. This works as a natural metric for *learning efficiency*, namely the performance achieved per unit of computational resources.\n",
    "\n",
    "The *error* computed is misclassification rate, computed for the training set and testing set. The values shown are averaged over all independent trials."
   ]
  },
  {
   "cell_type": "code",
   "execution_count": 12,
   "metadata": {},
   "outputs": [],
   "source": [
    "import os\n",
    "import numpy as np\n",
    "import matplotlib\n",
    "import matplotlib.pyplot as plt"
   ]
  },
  {
   "cell_type": "code",
   "execution_count": 13,
   "metadata": {},
   "outputs": [],
   "source": [
    "# Clerical material.\n",
    "task_name = \"iris\"\n",
    "toread = os.path.join(\"results\", task_name)\n",
    "\n",
    "methods_shallow = [\"shallow\", \"shallow-rob\"]\n",
    "methods_deep = [\"deep\", \"deep-rob\"]\n",
    "\n",
    "colours = [\"black\", \"blue\"]\n",
    "linestyles = [\"-\", \"-\"]\n",
    "labels = [\"GD\", \"RGD (ours)\"]\n",
    "\n",
    "FONTSIZE = \"x-large\""
   ]
  },
  {
   "cell_type": "markdown",
   "metadata": {},
   "source": [
    "#### In-sample training error"
   ]
  },
  {
   "cell_type": "code",
   "execution_count": 14,
   "metadata": {},
   "outputs": [
    {
     "data": {
      "image/png": "[encoded data removed]",
      "text/plain": [
       "<Figure size 720x360 with 2 Axes>"
      ]
     },
     "metadata": {},
     "output_type": "display_data"
    }
   ],
   "source": [
    "myfig = plt.figure(figsize=(10,5))\n",
    "perf_idx = 0\n",
    "\n",
    "ax1 = myfig.add_subplot(1,2,1)\n",
    "todo_methods = methods_shallow\n",
    "for i in range(len(todo_methods)):\n",
    "    \n",
    "    al_name = todo_methods[i]\n",
    "    al_colour = colours[i]\n",
    "    al_linestyle = linestyles[i]\n",
    "    al_label = labels[i]\n",
    "    \n",
    "    # Read in all relevant performance.\n",
    "    with open(os.path.join(toread, (al_name+\".ave\")), mode=\"r\", encoding=\"ascii\") as f:\n",
    "        tmp_ave = np.loadtxt(fname=f, dtype=np.float, delimiter=\",\")\n",
    "        \n",
    "    with open(os.path.join(toread, (al_name+\".cost\")), mode=\"r\", encoding=\"ascii\") as f:\n",
    "        tmp_cost = np.loadtxt(fname=f, dtype=np.float, delimiter=\",\")\n",
    "        \n",
    "    ax1.plot(tmp_cost, tmp_ave[:,perf_idx], linestyle=al_linestyle, color=al_colour, label=al_label)\n",
    "    ax1.tick_params(labelsize=FONTSIZE)\n",
    "\n",
    "ax1.legend(loc=1,ncol=1, fontsize=FONTSIZE)\n",
    "plt.title(\"Training error; model = shallow\", size=FONTSIZE)\n",
    "plt.xlabel(\"Cost in gradients\", size=FONTSIZE)\n",
    "\n",
    "ax2 = myfig.add_subplot(1,2,2, sharey=ax1)\n",
    "todo_methods = methods_deep\n",
    "for i in range(len(todo_methods)):\n",
    "    \n",
    "    al_name = todo_methods[i]\n",
    "    al_colour = colours[i]\n",
    "    al_linestyle = linestyles[i]\n",
    "    al_label = labels[i]\n",
    "    \n",
    "    # Read in all relevant performance.\n",
    "    with open(os.path.join(toread, (al_name+\".ave\")), mode=\"r\", encoding=\"ascii\") as f:\n",
    "        tmp_ave = np.loadtxt(fname=f, dtype=np.float, delimiter=\",\")\n",
    "        \n",
    "    with open(os.path.join(toread, (al_name+\".cost\")), mode=\"r\", encoding=\"ascii\") as f:\n",
    "        tmp_cost = np.loadtxt(fname=f, dtype=np.float, delimiter=\",\")\n",
    "        \n",
    "    ax2.plot(tmp_cost, tmp_ave[:,perf_idx], linestyle=al_linestyle, color=al_colour, label=al_label)\n",
    "    ax2.tick_params(labelsize=FONTSIZE)\n",
    "\n",
    "ax2.legend(loc=1,ncol=1, fontsize=FONTSIZE)\n",
    "plt.title(\"Training error; model = deep\", size=FONTSIZE)\n",
    "plt.xlabel(\"Cost in gradients\", size=FONTSIZE)\n",
    "\n",
    "# Finally, display both the shallow and deep case results.\n",
    "plt.show()"
   ]
  },
  {
   "cell_type": "markdown",
   "metadata": {},
   "source": [
    "#### Off-sample testing error"
   ]
  },
  {
   "cell_type": "code",
   "execution_count": 15,
   "metadata": {
    "scrolled": true
   },
   "outputs": [
    {
     "data": {
      "image/png": "[encoded data removed]",
      "text/plain": [
       "<Figure size 720x360 with 2 Axes>"
      ]
     },
     "metadata": {},
     "output_type": "display_data"
    }
   ],
   "source": [
    "myfig = plt.figure(figsize=(10,5))\n",
    "perf_idx = 1\n",
    "\n",
    "ax1 = myfig.add_subplot(1,2,1)\n",
    "todo_methods = methods_shallow\n",
    "for i in range(len(todo_methods)):\n",
    "    \n",
    "    al_name = todo_methods[i]\n",
    "    al_colour = colours[i]\n",
    "    al_linestyle = linestyles[i]\n",
    "    al_label = labels[i]\n",
    "    \n",
    "    # Read in all relevant performance.\n",
    "    with open(os.path.join(toread, (al_name+\".ave\")), mode=\"r\", encoding=\"ascii\") as f:\n",
    "        tmp_ave = np.loadtxt(fname=f, dtype=np.float, delimiter=\",\")\n",
    "        \n",
    "    with open(os.path.join(toread, (al_name+\".cost\")), mode=\"r\", encoding=\"ascii\") as f:\n",
    "        tmp_cost = np.loadtxt(fname=f, dtype=np.float, delimiter=\",\")\n",
    "        \n",
    "    ax1.plot(tmp_cost, tmp_ave[:,perf_idx], linestyle=al_linestyle, color=al_colour, label=al_label)\n",
    "    ax1.tick_params(labelsize=FONTSIZE)\n",
    "\n",
    "ax1.legend(loc=1,ncol=1, fontsize=FONTSIZE)\n",
    "plt.title(\"Testing error; model = shallow\", size=FONTSIZE)\n",
    "plt.xlabel(\"Cost in gradients\", size=FONTSIZE)\n",
    "\n",
    "ax2 = myfig.add_subplot(1,2,2, sharey=ax1)\n",
    "todo_methods = methods_deep\n",
    "for i in range(len(todo_methods)):\n",
    "    \n",
    "    al_name = todo_methods[i]\n",
    "    al_colour = colours[i]\n",
    "    al_linestyle = linestyles[i]\n",
    "    al_label = labels[i]\n",
    "    \n",
    "    # Read in all relevant performance.\n",
    "    with open(os.path.join(toread, (al_name+\".ave\")), mode=\"r\", encoding=\"ascii\") as f:\n",
    "        tmp_ave = np.loadtxt(fname=f, dtype=np.float, delimiter=\",\")\n",
    "        \n",
    "    with open(os.path.join(toread, (al_name+\".cost\")), mode=\"r\", encoding=\"ascii\") as f:\n",
    "        tmp_cost = np.loadtxt(fname=f, dtype=np.float, delimiter=\",\")\n",
    "        \n",
    "    ax2.plot(tmp_cost, tmp_ave[:,perf_idx], linestyle=al_linestyle, color=al_colour, label=al_label)\n",
    "    ax2.tick_params(labelsize=FONTSIZE)\n",
    "\n",
    "ax2.legend(loc=1,ncol=1, fontsize=FONTSIZE)\n",
    "plt.title(\"Testing error; model = deep\", size=FONTSIZE)\n",
    "plt.xlabel(\"Cost in gradients\", size=FONTSIZE)\n",
    "\n",
    "# Finally, display both the shallow and deep case results.\n",
    "plt.show()"
   ]
  },
  {
   "cell_type": "markdown",
   "metadata": {},
   "source": [
    "The main take-away from the above toy example is that even when the data is *not* heavy-tailed, the proposed procedure performs as well or better than GD-based ERM, which is known to be essentially optimal when the data is sub-Gaussian."
   ]
  },
  {
   "cell_type": "markdown",
   "metadata": {},
   "source": [
    "___"
   ]
  }
 ],
 "metadata": {
  "kernelspec": {
   "display_name": "Python 3",
   "language": "python",
   "name": "python3"
  },
  "language_info": {
   "codemirror_mode": {
    "name": "ipython",
    "version": 3
   },
   "file_extension": ".py",
   "mimetype": "text/x-python",
   "name": "python",
   "nbconvert_exporter": "python",
   "pygments_lexer": "ipython3",
   "version": "3.6.7"
  }
 },
 "nbformat": 4,
 "nbformat_minor": 2
}
